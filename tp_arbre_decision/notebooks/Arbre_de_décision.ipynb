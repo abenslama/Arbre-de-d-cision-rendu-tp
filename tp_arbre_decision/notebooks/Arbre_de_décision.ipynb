{
 "cells": [
  {
   "cell_type": "code",
   "execution_count": 1,
   "metadata": {},
   "outputs": [],
   "source": [
    "import os\n",
    "import pandas as pd\n",
    "from sklearn.model_selection import train_test_split"
   ]
  },
  {
   "cell_type": "code",
   "execution_count": null,
   "metadata": {},
   "outputs": [],
   "source": [
    "#########################################################################\n",
    "#####       \t\t\t\tLecture du fichier des données\t\t    #####\n",
    "\n",
    "titanic = pd.read_csv('titanic.csv')\n",
    "X = titanic[['pclass','sex','age','sibsp','parch']]\n",
    "y = titanic['survived']"
   ]
  },
  {
   "cell_type": "code",
   "execution_count": null,
   "metadata": {},
   "outputs": [],
   "source": [
    "#########################################################################\n",
    "#####       \t\t\t\t\t split en train et test\t\t    \t#####\n",
    "X_train, X_test, y_train, y_test = train_test_split(X, y, test_size=0.2, stratify = True)\n"
   ]
  },
  {
   "cell_type": "code",
   "execution_count": null,
   "metadata": {},
   "outputs": [],
   "source": [
    "#########################################################################\n",
    "#####       \t\t\t\t Classification tree \t \t \t \t \t #####\n",
    "\n",
    "from sklearn.tree import DecisionTreeClassifier\n",
    "\n",
    "tree = DecisionTreeClassifier(random_state=42)\n",
    "\n",
    "tree.fit(X_train, y_train)\n",
    "\n",
    "y_pred = tree.predict(X_test)"
   ]
  },
  {
   "cell_type": "code",
   "execution_count": null,
   "metadata": {},
   "outputs": [],
   "source": [
    "#########################################################################\n",
    "#####       \t\t\tAffichage de l'arbre \t \t \t \t \t \t#####\n",
    "\n",
    "# Cette méthode est valable qu'à partir de la version 21 de sklearn\n",
    "# Vérifier votre version de sklearn\n",
    "import sklearn\n",
    "sklearn.__version__\n",
    "# MAJ sklearn\n",
    "pip install -U scikit-learn\n",
    "\n",
    "\n",
    "from sklearn.tree import plot_tree\n",
    "plt.close('all')\n",
    "plt.figure(figsize = (20, 20))\n",
    "tree_titanic = plot_tree(tree)\n",
    "plt.show()\n",
    "# L'arbre est trop grand (illisible)\n",
    "\n"
   ]
  },
  {
   "cell_type": "code",
   "execution_count": null,
   "metadata": {},
   "outputs": [],
   "source": [
    "# Si vous êtes sur une version antérieure de sklearn, voici le code qui marche :\n",
    "# Rq : Vous avez besoin d'installer le logiciel (Graphviz) et de rajouter les variables d'environnement.\n",
    "\n",
    "from sklearn.tree import export_graphviz\n",
    "from sklearn.externals.six import StringIO\n",
    "import pydotplus\n",
    "treeG=DecisionTreeClassifier(max_depth=treeOpt.best_params_['max_depth'])\n",
    "treeG.fit(Xr_train,Yb_train)\n",
    "dot_data = StringIO()\n",
    "export_graphviz(treeG, out_file=dot_data)\n",
    "graph=pydotplus.graph_from_dot_data(dot_data.getvalue())\n",
    "graph.write_png(\"treeOpt.png\")\n",
    "from IPython.display import Image\n",
    "Image(filename='treeOpt.png')\n",
    "\n"
   ]
  },
  {
   "cell_type": "code",
   "execution_count": null,
   "metadata": {},
   "outputs": [],
   "source": [
    "#########################################################################\n",
    "#####       \t\t\t\tExtraire les règles\t\t    \t \t \t#####\n",
    "\n",
    "# Affichage sous forme de règles\n",
    "# Plus facile à appréhender quand l'arbre est très grand\n",
    "\n",
    "from sklearn.tree import export_text\n",
    "tree_rules = export_text(tree)\n",
    "print(tree_rules)\n",
    "\n"
   ]
  },
  {
   "cell_type": "code",
   "execution_count": null,
   "metadata": {},
   "outputs": [],
   "source": [
    "# Q : Cmnt extraire les régles à partir d'un arbre sous la forme d'un DataFrame :\n",
    "# R :\n",
    "# https://stackoverflow.com/questions/56334210/how-to-extract-sklearn-decision-tree-rules-to-pandas-boolean-conditions\n",
    "\n",
    "\n",
    "#########################################################################\n",
    "#####       \t\tOptimisation de la profondeur de l'arbre\t\t#####\n",
    "\n",
    "from sklearn.model_selection import GridSearchCV\n",
    "param = [{\"max_depth\" : list(range(2, 10))}]\n",
    "tree =  GridSearchCV(DecisionTreeClassifier(), param, cv = 10, n_jobs = -1)\n",
    "treeOpt = tree.fit(X_train, y_train)\n",
    "# paramètre optimal\n",
    "print(\"Meilleur score = %f, Meilleur paramètre = %s\" % (1. - treeOpt.best_score_, treeOpt.best_params_))\n",
    "\n",
    "\n",
    "\n"
   ]
  },
  {
   "cell_type": "code",
   "execution_count": null,
   "metadata": {},
   "outputs": [],
   "source": [
    "#########################################################################\n",
    "#####       \t\t\tEstimation de l'erreur (de prévision)\t\t#####\n",
    "\n",
    "1 - treeOpt.score(X_test, y_test)\n",
    "\n",
    "# prévision de l'échantillon test\n",
    "y_pred = treeOpt.predict(X_test)\n",
    "# matrice de confusion\n",
    "table = pd.crosstab(y_pred, y_test)\n",
    "print(table)"
   ]
  }
 ],
 "metadata": {
  "kernelspec": {
   "display_name": "Python 3",
   "language": "python",
   "name": "python3"
  },
  "language_info": {
   "codemirror_mode": {
    "name": "ipython",
    "version": 3
   },
   "file_extension": ".py",
   "mimetype": "text/x-python",
   "name": "python",
   "nbconvert_exporter": "python",
   "pygments_lexer": "ipython3",
   "version": "3.8.6"
  }
 },
 "nbformat": 4,
 "nbformat_minor": 4
}
